{
  "cells": [
    {
      "cell_type": "markdown",
      "metadata": {
        "id": "Rr9ok_q9yvu1"
      },
      "source": [
        "# Part 1 - Tokenization"
      ]
    },
    {
      "cell_type": "code",
      "execution_count": null,
      "metadata": {
        "id": "RGxIvBxByM4r"
      },
      "outputs": [],
      "source": [
        "# Hello!\n",
        "\n",
        "# Let's import the indispensable libraries that make all of this work!\n",
        "\n",
        "import tensorflow as tf\n",
        "from tensorflow import keras\n",
        "from tensorflow.keras.preprocessing.text import Tokenizer"
      ]
    },
    {
      "cell_type": "code",
      "execution_count": null,
      "metadata": {
        "id": "1rVxot55yvC1"
      },
      "outputs": [],
      "source": [
        "# First I will initialise a few sentences, the words from which will be\n",
        "# tokenized.\n",
        "\n",
        "sentences = [\n",
        "    'I love my mom',\n",
        "    'I love my girlfriend',\n",
        "    'I love my girlfriend!',    # '!' should be ignored\n",
        "    'You love my mom?',         # so should '?'\n",
        "    'I like you.'               # and '.'\n",
        "]"
      ]
    },
    {
      "cell_type": "code",
      "execution_count": null,
      "metadata": {
        "colab": {
          "base_uri": "https://localhost:8080/"
        },
        "id": "7seeL08Ty579",
        "outputId": "a1657e92-838b-43e8-b9cd-af5b0ff89068"
      },
      "outputs": [],
      "source": [
        "# Initialise the tokenizer\n",
        "# Tokenizer() takes in some arguments. (To me, ) the important ones are:\n",
        "# num_words   - max number of tokens\n",
        "# filters     - which characters to ignore (! ? . and so on). Done for you!\n",
        "# oov_token   - Out Of Vocabulary words will be set to that string\n",
        "\n",
        "tokenizer = Tokenizer(num_words = 100)\n",
        "tokenizer.fit_on_texts(sentences)\n",
        "word_index = tokenizer.word_index\n",
        "print(word_index)"
      ]
    },
    {
      "cell_type": "markdown",
      "metadata": {
        "id": "IdVZJ8RM0Dtp"
      },
      "source": [
        "# Part 2 - Sentences to Data"
      ]
    },
    {
      "cell_type": "code",
      "execution_count": null,
      "metadata": {
        "colab": {
          "base_uri": "https://localhost:8080/"
        },
        "id": "kxnVBonh0JO2",
        "outputId": "d4d0999d-35dd-4094-c7e1-5f68b77344bd"
      },
      "outputs": [],
      "source": [
        "# Let's see the sequences of tokens. These represent the sentences as tokens\n",
        "\n",
        "sequences = tokenizer.texts_to_sequences(sentences)\n",
        "\n",
        "print(word_index)\n",
        "print(sequences)"
      ]
    },
    {
      "cell_type": "code",
      "execution_count": null,
      "metadata": {
        "colab": {
          "base_uri": "https://localhost:8080/"
        },
        "id": "t9qZZp722S_I",
        "outputId": "f4a99dd3-6aa6-446e-a8f8-08410a71d51a"
      },
      "outputs": [],
      "source": [
        "# Now let us test what happens if we use out tokenizer on a new sentence\n",
        "# One of them contains a word that was not seen before... What will happen?\n",
        "\n",
        "test_sentences = [\n",
        "    'I like my girlfriend.',\n",
        "    'I love her'\n",
        "]\n",
        "\n",
        "test_sequences = tokenizer.texts_to_sequences(test_sentences)\n",
        "print(test_sequences)"
      ]
    },
    {
      "cell_type": "code",
      "execution_count": null,
      "metadata": {
        "colab": {
          "base_uri": "https://localhost:8080/"
        },
        "id": "U20hngHH3bHn",
        "outputId": "0374a724-5390-4145-a9b1-803fdfc7988d"
      },
      "outputs": [],
      "source": [
        "# Oh no! A whole word was lost... We will never even know it was there!\n",
        "# However... Here's a trick! oov_token! Let's redefine the tokenizer\n",
        "\n",
        "tokenizer = Tokenizer(num_words = 100, oov_token = \"<NOPE>\")\n",
        "tokenizer.fit_on_texts(sentences)\n",
        "word_index = tokenizer.word_index\n",
        "print(word_index)\n",
        "\n",
        "# Now the unknown words will be tokenized as 1, like \"her\" in the second test\n",
        "\n",
        "test_sequences = tokenizer.texts_to_sequences(test_sentences)\n",
        "print(test_sequences)"
      ]
    },
    {
      "cell_type": "code",
      "execution_count": null,
      "metadata": {
        "colab": {
          "base_uri": "https://localhost:8080/"
        },
        "id": "DeOmnLwR5AXA",
        "outputId": "1b1819d0-12cc-456f-8e9c-f947ccf2ae03"
      },
      "outputs": [],
      "source": [
        "# Now we'd want to Pad our sequences.\n",
        "# Why?\n",
        "# In short, to make them look like matrixes and be of the same shape and size\n",
        "# Zeros (0) will represent the padding.\n",
        "# padding post/pre means to add zeros after or before tokens\n",
        "# truncating will remove tokens if theres too many from the selected side\n",
        "# maxlen speaks for itself\n",
        "\n",
        "from tensorflow.keras.preprocessing.sequence import pad_sequences\n",
        "\n",
        "padded_sequences = pad_sequences(sequences, padding='post',\n",
        "                                 truncating='post', maxlen=6)\n",
        "\n",
        "print(word_index)\n",
        "print(sequences)\n",
        "print(padded_sequences)"
      ]
    },
    {
      "cell_type": "markdown",
      "metadata": {
        "id": "FSCNyyhn6XV0"
      },
      "source": [
        "# Part 3 - Training and Recognition"
      ]
    },
    {
      "cell_type": "code",
      "execution_count": null,
      "metadata": {
        "colab": {
          "base_uri": "https://localhost:8080/"
        },
        "id": "JTmN8FjB6ct0",
        "outputId": "4bc83d65-79a4-469a-b4cc-10e04abf84ca"
      },
      "outputs": [],
      "source": [
        "# For this part I will shamelessly steal the sample data from Tensorflows video\n",
        "\n",
        "!wget --no-check-certificate \\\n",
        "    https://storage.googleapis.com/learning-datasets/sarcasm.json \\\n",
        "    -O /tmp/sarcasm.json"
      ]
    },
    {
      "cell_type": "code",
      "execution_count": null,
      "metadata": {
        "id": "hSiPvHFt674b"
      },
      "outputs": [],
      "source": [
        "import json\n",
        "\n",
        "with open(\"/tmp/sarcasm.json\", 'r') as f:\n",
        "  datastore = json.load(f)\n",
        "\n",
        "headlines = []\n",
        "labels = []\n",
        "urls = []\n",
        "\n",
        "for item in datastore:\n",
        "  headlines.append(item['headline'])\n",
        "  labels.append(item['is_sarcastic'])\n",
        "  urls.append(item['article_link'])"
      ]
    },
    {
      "cell_type": "code",
      "execution_count": null,
      "metadata": {
        "colab": {
          "base_uri": "https://localhost:8080/"
        },
        "id": "5YpSKAdG78vZ",
        "outputId": "8873cd33-8672-430f-955d-20feea20eeee"
      },
      "outputs": [],
      "source": [
        "tokenizer = Tokenizer(oov_token=\"<NOPE>\")\n",
        "tokenizer.fit_on_texts(headlines)\n",
        "word_index = tokenizer.word_index\n",
        "\n",
        "sequences = tokenizer.texts_to_sequences(headlines)\n",
        "padded = pad_sequences(sequences, padding='post')\n",
        "\n",
        "print(padded[0])\n",
        "print(padded.shape)"
      ]
    },
    {
      "cell_type": "code",
      "execution_count": null,
      "metadata": {
        "id": "JLtnpX8W9RTE"
      },
      "outputs": [],
      "source": [
        "# I'm gonna split the dataset in a somewhat simpler way\n",
        "\n",
        "from sklearn.model_selection import train_test_split\n",
        "\n",
        "vocab_size = 10000\n",
        "embedding_dim = 16\n",
        "max_length = 100\n",
        "test_fraction = 0.25\n",
        "\n",
        "headlines_train, headlines_test, labels_train, labels_test =\\\n",
        "  train_test_split(headlines, labels, test_size=test_fraction)\n",
        "\n",
        "tokenizer = Tokenizer(num_words=vocab_size, oov_token=\"<NOPE>\")\n",
        "tokenizer.fit_on_texts(headlines_train)\n",
        "\n",
        "word_index = tokenizer.word_index\n",
        "\n",
        "training_sequences = tokenizer.texts_to_sequences(headlines_train)\n",
        "training_padded = pad_sequences(training_sequences, maxlen=max_length,\n",
        "                                padding='post', truncating='post')\n",
        "\n",
        "testing_sequences = tokenizer.texts_to_sequences(headlines_test)\n",
        "testing_padded = pad_sequences(testing_sequences, maxlen=max_length,\n",
        "                               padding='post', truncating='post')"
      ]
    },
    {
      "cell_type": "code",
      "execution_count": null,
      "metadata": {
        "id": "-xwnuC2UCG0C"
      },
      "outputs": [],
      "source": [
        "import numpy as np\n",
        "\n",
        "training_padded = np.array(training_padded)\n",
        "labels_train = np.array(labels_train)\n",
        "testing_padded = np.array(testing_padded)\n",
        "labels_test = np.array(labels_test)"
      ]
    },
    {
      "cell_type": "code",
      "execution_count": null,
      "metadata": {
        "id": "wntVczia_8LS"
      },
      "outputs": [],
      "source": [
        "model = tf.keras.Sequential([\n",
        "    tf.keras.layers.Embedding(vocab_size, embedding_dim,\n",
        "                              input_length=max_length),\n",
        "    tf.keras.layers.GlobalAveragePooling1D(),\n",
        "    tf.keras.layers.Dense(48, activation='relu'),\n",
        "    tf.keras.layers.Dense(48, activation='relu'),\n",
        "    tf.keras.layers.Dense(1, activation='sigmoid')\n",
        "])\n",
        "model.compile(\n",
        "    loss='binary_crossentropy',\n",
        "    optimizer='adam',\n",
        "    metrics=['accuracy']\n",
        "              )"
      ]
    },
    {
      "cell_type": "code",
      "execution_count": null,
      "metadata": {
        "colab": {
          "base_uri": "https://localhost:8080/"
        },
        "id": "rgcQwJkPAoPw",
        "outputId": "9e115936-c744-4302-8188-0928a052c218"
      },
      "outputs": [],
      "source": [
        "model.summary()"
      ]
    },
    {
      "cell_type": "code",
      "execution_count": null,
      "metadata": {
        "id": "Vpn3v7LxDnw4"
      },
      "outputs": [],
      "source": [
        "# Define some useful functions\n",
        "import matplotlib.pyplot as plt\n",
        "%matplotlib inline\n",
        "from IPython.display import clear_output\n",
        "from matplotlib.ticker import MaxNLocator\n",
        "\n",
        "class PlotLossAccuracy(keras.callbacks.Callback):\n",
        "    def on_train_begin(self, logs={}):\n",
        "        self.i = 0\n",
        "        self.x = []\n",
        "        self.acc = []\n",
        "        self.losses = []\n",
        "        self.val_losses = []\n",
        "        self.val_acc = []\n",
        "        self.logs = []\n",
        "\n",
        "    def on_epoch_end(self, epoch, logs={}):\n",
        "\n",
        "        self.logs.append(logs)\n",
        "        self.x.append(int(self.i))\n",
        "        self.losses.append(logs.get('loss'))\n",
        "        self.val_losses.append(logs.get('val_loss'))\n",
        "        self.acc.append(logs.get('accuracy'))\n",
        "        self.val_acc.append(logs.get('val_accuracy'))\n",
        "\n",
        "        self.i += 1\n",
        "\n",
        "        clear_output(wait=True)\n",
        "        plt.figure(figsize=(16, 6))\n",
        "        plt.plot([1, 2])\n",
        "        plt.subplot(121)\n",
        "        plt.plot(self.x, self.losses, label=\"train loss\")\n",
        "        plt.plot(self.x, self.val_losses, label=\"validation loss\")\n",
        "        plt.gca().xaxis.set_major_locator(MaxNLocator(integer=True))\n",
        "        plt.ylabel('loss')\n",
        "        plt.xlabel('epoch')\n",
        "        plt.title('Model Loss')\n",
        "        plt.legend()\n",
        "        plt.subplot(122)\n",
        "        plt.plot(self.x, self.acc, label=\"training accuracy\")\n",
        "        plt.plot(self.x, self.val_acc, label=\"validation accuracy\")\n",
        "        plt.legend()\n",
        "        plt.ylabel('accuracy')\n",
        "        plt.xlabel('epoch')\n",
        "        plt.title('Model Accuracy')\n",
        "        plt.gca().xaxis.set_major_locator(MaxNLocator(integer=True))\n",
        "        plt.show();"
      ]
    },
    {
      "cell_type": "code",
      "execution_count": null,
      "metadata": {
        "colab": {
          "base_uri": "https://localhost:8080/",
          "height": 407
        },
        "id": "9yi1xcRuAr_H",
        "outputId": "9ec5f90c-d3de-4c18-da75-525f4da9584f"
      },
      "outputs": [],
      "source": [
        "num_epochs = 30\n",
        "pltCallBack = PlotLossAccuracy()\n",
        "\n",
        "history = model.fit(training_padded, labels_train,\n",
        "                    epochs=num_epochs,\n",
        "                    validation_data=(testing_padded, labels_test),\n",
        "                    verbose=2,\n",
        "                    callbacks=[pltCallBack]\n",
        "                    )"
      ]
    },
    {
      "cell_type": "code",
      "execution_count": null,
      "metadata": {
        "colab": {
          "base_uri": "https://localhost:8080/"
        },
        "id": "ZWejpllbESd_",
        "outputId": "9d67bc70-d392-4b54-d83b-c3891f908d60"
      },
      "outputs": [],
      "source": [
        "test_sentence = [\n",
        "    \"granny starting to fear spiders in the garden might be real\",\n",
        "    \"game of thrones season finale showing this sunday night\"\n",
        "]\n",
        "\n",
        "test_sequences = tokenizer.texts_to_sequences(test_sentence)\n",
        "test_padded = pad_sequences(test_sequences, maxlen=max_length,\n",
        "                       padding='post',\n",
        "                       truncating='post')\n",
        "\n",
        "print(model.predict(test_padded))"
      ]
    }
  ],
  "metadata": {
    "colab": {
      "provenance": []
    },
    "kernelspec": {
      "display_name": "Python 3",
      "name": "python3"
    },
    "language_info": {
      "name": "python"
    }
  },
  "nbformat": 4,
  "nbformat_minor": 0
}
