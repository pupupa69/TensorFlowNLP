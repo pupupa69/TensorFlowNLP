{
  "cells": [
    {
      "cell_type": "markdown",
      "metadata": {
        "id": "Rr9ok_q9yvu1"
      },
      "source": [
        "# Part 1 - Tokenization"
      ]
    },
    {
      "cell_type": "code",
      "execution_count": null,
      "metadata": {
        "id": "RGxIvBxByM4r"
      },
      "outputs": [],
      "source": [
        "# Hello!\n",
        "\n",
        "# Let's import the indispensable libraries that make all of this work!\n",
        "\n",
        "import tensorflow as tf\n",
        "from tensorflow import keras\n",
        "from tensorflow.keras.preprocessing.text import Tokenizer"
      ]
    },
    {
      "cell_type": "code",
      "execution_count": null,
      "metadata": {
        "id": "1rVxot55yvC1"
      },
      "outputs": [],
      "source": [
        "# First I will initialise a few sentences, the words from which will be\n",
        "# tokenized.\n",
        "\n",
        "sentences = [\n",
        "    'I love my mom',\n",
        "    'I love my girlfriend',\n",
        "    'I love my girlfriend!',    # '!' should be ignored\n",
        "    'You love my mom?',         # so should '?'\n",
        "    'I like you.'               # and '.'\n",
        "]"
      ]
    },
    {
      "cell_type": "code",
      "execution_count": null,
      "metadata": {
        "colab": {
          "base_uri": "https://localhost:8080/"
        },
        "id": "7seeL08Ty579",
        "outputId": "a1657e92-838b-43e8-b9cd-af5b0ff89068"
      },
      "outputs": [],
      "source": [
        "# Initialise the tokenizer\n",
        "# Tokenizer() takes in some arguments. (To me, ) the important ones are:\n",
        "# num_words   - max number of tokens\n",
        "# filters     - which characters to ignore (! ? . and so on). Done for you!\n",
        "# oov_token   - Out Of Vocabulary words will be set to that string\n",
        "\n",
        "tokenizer = Tokenizer(num_words = 100)\n",
        "tokenizer.fit_on_texts(sentences)\n",
        "word_index = tokenizer.word_index\n",
        "print(word_index)"
      ]
    },
    {
      "cell_type": "markdown",
      "metadata": {
        "id": "IdVZJ8RM0Dtp"
      },
      "source": [
        "# Part 2 - Sentences to Data"
      ]
    },
    {
      "cell_type": "code",
      "execution_count": null,
      "metadata": {
        "colab": {
          "base_uri": "https://localhost:8080/"
        },
        "id": "kxnVBonh0JO2",
        "outputId": "d4d0999d-35dd-4094-c7e1-5f68b77344bd"
      },
      "outputs": [],
      "source": [
        "# Let's see the sequences of tokens. These represent the sentences as tokens\n",
        "\n",
        "sequences = tokenizer.texts_to_sequences(sentences)\n",
        "\n",
        "print(word_index)\n",
        "print(sequences)"
      ]
    },
    {
      "cell_type": "code",
      "execution_count": null,
      "metadata": {
        "colab": {
          "base_uri": "https://localhost:8080/"
        },
        "id": "t9qZZp722S_I",
        "outputId": "f4a99dd3-6aa6-446e-a8f8-08410a71d51a"
      },
      "outputs": [],
      "source": [
        "# Now let us test what happens if we use out tokenizer on a new sentence\n",
        "# One of them contains a word that was not seen before... What will happen?\n",
        "\n",
        "test_sentences = [\n",
        "    'I like my girlfriend.',\n",
        "    'I love her'\n",
        "]\n",
        "\n",
        "test_sequences = tokenizer.texts_to_sequences(test_sentences)\n",
        "print(test_sequences)"
      ]
    },
    {
      "cell_type": "code",
      "execution_count": null,
      "metadata": {
        "colab": {
          "base_uri": "https://localhost:8080/"
        },
        "id": "U20hngHH3bHn",
        "outputId": "0374a724-5390-4145-a9b1-803fdfc7988d"
      },
      "outputs": [],
      "source": [
        "# Oh no! A whole word was lost... We will never even know it was there!\n",
        "# However... Here's a trick! oov_token! Let's redefine the tokenizer\n",
        "\n",
        "tokenizer = Tokenizer(num_words = 100, oov_token = \"<NOPE>\")\n",
        "tokenizer.fit_on_texts(sentences)\n",
        "word_index = tokenizer.word_index\n",
        "print(word_index)\n",
        "\n",
        "# Now the unknown words will be tokenized as 1, like \"her\" in the second test\n",
        "\n",
        "test_sequences = tokenizer.texts_to_sequences(test_sentences)\n",
        "print(test_sequences)"
      ]
    },
    {
      "cell_type": "code",
      "execution_count": null,
      "metadata": {
        "colab": {
          "base_uri": "https://localhost:8080/"
        },
        "id": "DeOmnLwR5AXA",
        "outputId": "1b1819d0-12cc-456f-8e9c-f947ccf2ae03"
      },
      "outputs": [],
      "source": [
        "# Now we'd want to Pad our sequences.\n",
        "# Why?\n",
        "# In short, to make them look like matrixes and be of the same shape and size\n",
        "# Zeros (0) will represent the padding.\n",
        "# padding post/pre means to add zeros after or before tokens\n",
        "# truncating will remove tokens if theres too many from the selected side\n",
        "# maxlen speaks for itself\n",
        "\n",
        "from tensorflow.keras.preprocessing.sequence import pad_sequences\n",
        "\n",
        "padded_sequences = pad_sequences(sequences, padding='post',\n",
        "                                 truncating='post', maxlen=6)\n",
        "\n",
        "print(word_index)\n",
        "print(sequences)\n",
        "print(padded_sequences)"
      ]
    }
  ],
  "metadata": {
    "colab": {
      "provenance": []
    },
    "kernelspec": {
      "display_name": "Python 3",
      "name": "python3"
    },
    "language_info": {
      "name": "python"
    }
  },
  "nbformat": 4,
  "nbformat_minor": 0
}
