{
  "cells": [
    {
      "cell_type": "markdown",
      "metadata": {
        "id": "Rr9ok_q9yvu1"
      },
      "source": [
        "# Part 1 - Tokenization"
      ]
    },
    {
      "cell_type": "code",
      "execution_count": null,
      "metadata": {
        "id": "RGxIvBxByM4r"
      },
      "outputs": [],
      "source": [
        "# Hello!\n",
        "\n",
        "# Let's import the indispensable libraries that make all of this work!\n",
        "\n",
        "import tensorflow as tf\n",
        "from tensorflow import keras\n",
        "from tensorflow.keras.preprocessing.text import Tokenizer"
      ]
    },
    {
      "cell_type": "code",
      "execution_count": null,
      "metadata": {
        "id": "1rVxot55yvC1"
      },
      "outputs": [],
      "source": [
        "# First I will initialise a few sentences, the words from which will be\n",
        "# tokenized.\n",
        "\n",
        "sentences = [\n",
        "    'I love my mom',\n",
        "    'I love my girlfriend',\n",
        "    'I love my girlfriend!',    # '!' should be ignored\n",
        "    'You love my mom?',         # so should '?'\n",
        "    'I like you.'               # and '.'\n",
        "]"
      ]
    },
    {
      "cell_type": "code",
      "execution_count": null,
      "metadata": {
        "colab": {
          "base_uri": "https://localhost:8080/"
        },
        "id": "7seeL08Ty579",
        "outputId": "a1657e92-838b-43e8-b9cd-af5b0ff89068"
      },
      "outputs": [],
      "source": [
        "# Initialise the tokenizer\n",
        "# Tokenizer() takes in some arguments. (To me, ) the important ones are:\n",
        "# num_words   - max number of tokens\n",
        "# filters     - which characters to ignore (! ? . and so on). Done for you!\n",
        "# oov_token   - Out Of Vocabulary words will be set to that string\n",
        "\n",
        "tokenizer = Tokenizer(num_words = 100)\n",
        "tokenizer.fit_on_texts(sentences)\n",
        "word_index = tokenizer.word_index\n",
        "print(word_index)"
      ]
    }
  ],
  "metadata": {
    "colab": {
      "provenance": []
    },
    "kernelspec": {
      "display_name": "Python 3",
      "name": "python3"
    },
    "language_info": {
      "name": "python"
    }
  },
  "nbformat": 4,
  "nbformat_minor": 0
}
